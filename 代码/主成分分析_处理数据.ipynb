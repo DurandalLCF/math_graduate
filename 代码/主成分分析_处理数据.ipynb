{
 "cells": [
  {
   "cell_type": "code",
   "execution_count": 1,
   "metadata": {
    "collapsed": true
   },
   "outputs": [],
   "source": [
    "import pandas as pd\n",
    "import numpy as np\n",
    "import random"
   ]
  },
  {
   "cell_type": "code",
   "execution_count": 2,
   "metadata": {
    "collapsed": true
   },
   "outputs": [],
   "source": [
    "data_df=pd.read_excel('深圳市环境数据.xls',sheet_name='data')\n",
    "name_df=pd.read_excel('深圳市环境数据.xls',sheet_name='name')"
   ]
  },
  {
   "cell_type": "code",
   "execution_count": 5,
   "metadata": {},
   "outputs": [
    {
     "name": "stdout",
     "output_type": "stream",
     "text": [
      "        2000       2001       2002       2003       2004       2005  \\\n",
      "0      0.059      0.063      0.061      0.070      0.076      0.064   \n",
      "1      0.027      0.027      0.018      0.020      0.024      0.021   \n",
      "2      0.055      0.058      0.050      0.057      0.072      0.039   \n",
      "3  38427.000  39264.000  40780.000  40872.000  43633.000  43453.000   \n",
      "4   3352.000   3477.000   4287.000   5052.000   6241.000   6468.000   \n",
      "5     43.080     43.800     42.240     58.630     83.370     85.390   \n",
      "\n",
      "        2006       2007       2008       2009       2010      2011      2012  \\\n",
      "0      0.064      0.064      0.063      0.057      0.057     0.057     0.054   \n",
      "1      0.030      0.023      0.016      0.013      0.011     0.011     0.010   \n",
      "2      0.053      0.054      0.047      0.042      0.045     0.048     0.040   \n",
      "3  42380.000  37957.000  33850.000  31947.000  32642.000      9482  9847.000   \n",
      "4   4028.650   3261.960   4044.690   3506.620   1670.230  1 254.50   827.760   \n",
      "5    107.350    161.820    141.580    139.450    146.440    132.59   121.530   \n",
      "\n",
      "       2013         2014         2015         2016         2017  \n",
      "0     0.062     0.019345     0.017885     0.015330     0.016425  \n",
      "1     0.011     0.003285     0.002920     0.002920     0.002920  \n",
      "2     0.040     0.012775     0.012045     0.012045     0.010950  \n",
      "3  8193.000  5326.000000  4167.000000  4762.000000  1339.000000  \n",
      "4   753.150   728.880000  1138.340000  1720.630000   904.740000  \n",
      "5   123.840   141.420000   124.630000   142.130000   165.210000  \n"
     ]
    }
   ],
   "source": [
    "print(data_df)"
   ]
  },
  {
   "cell_type": "code",
   "execution_count": null,
   "metadata": {
    "collapsed": true
   },
   "outputs": [],
   "source": []
  }
 ],
 "metadata": {
  "kernelspec": {
   "display_name": "Python 3",
   "language": "python",
   "name": "python3"
  },
  "language_info": {
   "codemirror_mode": {
    "name": "ipython",
    "version": 3
   },
   "file_extension": ".py",
   "mimetype": "text/x-python",
   "name": "python",
   "nbconvert_exporter": "python",
   "pygments_lexer": "ipython3",
   "version": "3.6.2"
  }
 },
 "nbformat": 4,
 "nbformat_minor": 2
}
